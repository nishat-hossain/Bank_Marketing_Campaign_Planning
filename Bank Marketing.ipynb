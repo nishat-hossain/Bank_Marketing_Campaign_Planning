{
 "cells": [
  {
   "cell_type": "markdown",
   "id": "7f18d254",
   "metadata": {},
   "source": [
    "<h2>Planning a Bank Marketing Campaign with SQL<h2>"
   ]
  },
  {
   "cell_type": "markdown",
   "id": "be1a9b53",
   "metadata": {},
   "source": [
    "In this project we'll explore a bank marketing data set with information on the outcome of the last marketing campaign excecuted by a bank to encourage customers to make term deposits. We'll use SQL to analyze a few quick demographic patterns that may help inform our next campaign. The data set can be found on [Kaggle](https://www.kaggle.com/datasets/janiobachmann/bank-marketing-dataset). "
   ]
  },
  {
   "cell_type": "markdown",
   "id": "edae1c36",
   "metadata": {},
   "source": [
    "Before we start the analysis, we'll load the data into a SQL database. We'll start by creating an empty SQL database to populate with the Kaggle CSV data:"
   ]
  },
  {
   "cell_type": "code",
   "execution_count": 26,
   "id": "526d6dfa",
   "metadata": {},
   "outputs": [
    {
     "data": {
      "text/plain": [
       "<sqlite3.Cursor at 0x7fb0b46268c0>"
      ]
     },
     "execution_count": 26,
     "metadata": {},
     "output_type": "execute_result"
    }
   ],
   "source": [
    "import sqlite3\n",
    "from pathlib import Path\n",
    "\n",
    "Path(\"bank.db\").touch()\n",
    "\n",
    "conn = sqlite3.connect(\"bank.db\")\n",
    "c = conn.cursor()\n",
    "\n",
    "table = \"\"\"CREATE TABLE bank (\n",
    "                age int, job text,\n",
    "                marital text, education text, \n",
    "                default_e text, balance int,\n",
    "                housing text, loan text,\n",
    "                contact text, day int,\n",
    "                month text, duration int,\n",
    "                campaign int, pdays decimal,\n",
    "                previous int, poutcome text,\n",
    "                deposit text\n",
    "                );\"\"\"\n",
    "\n",
    "c.execute(table)"
   ]
  },
  {
   "cell_type": "markdown",
   "id": "ea1bef35",
   "metadata": {},
   "source": [
    "Now, we'll populate the empty database with the Kaggle data:"
   ]
  },
  {
   "cell_type": "code",
   "execution_count": 27,
   "id": "1602a644",
   "metadata": {},
   "outputs": [
    {
     "data": {
      "text/plain": [
       "11162"
      ]
     },
     "execution_count": 27,
     "metadata": {},
     "output_type": "execute_result"
    }
   ],
   "source": [
    "import pandas as pd\n",
    "\n",
    "bank = pd.read_csv(\"bank.csv\")\n",
    "\n",
    "bank.to_sql(\"bank\", conn, if_exists=\"append\", index=False)"
   ]
  },
  {
   "cell_type": "markdown",
   "id": "e65b643f",
   "metadata": {},
   "source": [
    "Next we'll fetch a few results to test if the table populated correctly:"
   ]
  },
  {
   "cell_type": "code",
   "execution_count": 156,
   "id": "5b0418f7",
   "metadata": {},
   "outputs": [
    {
     "data": {
      "text/plain": [
       "[(59,\n",
       "  'admin.',\n",
       "  'married',\n",
       "  'secondary',\n",
       "  'no',\n",
       "  2343,\n",
       "  'yes',\n",
       "  'no',\n",
       "  'unknown',\n",
       "  5,\n",
       "  'may',\n",
       "  1042,\n",
       "  1,\n",
       "  -1,\n",
       "  0,\n",
       "  'unknown',\n",
       "  'yes'),\n",
       " (56,\n",
       "  'admin.',\n",
       "  'married',\n",
       "  'secondary',\n",
       "  'no',\n",
       "  45,\n",
       "  'no',\n",
       "  'no',\n",
       "  'unknown',\n",
       "  5,\n",
       "  'may',\n",
       "  1467,\n",
       "  1,\n",
       "  -1,\n",
       "  0,\n",
       "  'unknown',\n",
       "  'yes')]"
      ]
     },
     "execution_count": 156,
     "metadata": {},
     "output_type": "execute_result"
    }
   ],
   "source": [
    "test_query = \"\"\"SELECT * FROM bank\"\"\"\n",
    "c.execute(test_query).fetchmany(2)"
   ]
  },
  {
   "cell_type": "markdown",
   "id": "b9470f90",
   "metadata": {},
   "source": [
    "Now we'll load the sql extension:"
   ]
  },
  {
   "cell_type": "code",
   "execution_count": 77,
   "id": "f81fa502",
   "metadata": {},
   "outputs": [],
   "source": [
    "%reload_ext sql\n",
    "%sql sqlite:///bank.db"
   ]
  },
  {
   "cell_type": "markdown",
   "id": "833d6929",
   "metadata": {},
   "source": [
    "<h3>Finding Target Ages & Occupations<h3>"
   ]
  },
  {
   "cell_type": "markdown",
   "id": "4a8013a1",
   "metadata": {},
   "source": [
    "We can begin our analysis now. We'll start by looking at the most common age bracket for the customers in our dataset:"
   ]
  },
  {
   "cell_type": "code",
   "execution_count": 137,
   "id": "5b8531a5",
   "metadata": {},
   "outputs": [
    {
     "name": "stdout",
     "output_type": "stream",
     "text": [
      " * sqlite:///bank.db\n",
      "Done.\n"
     ]
    },
    {
     "data": {
      "text/html": [
       "<table>\n",
       "    <thead>\n",
       "        <tr>\n",
       "            <th>age_bracket</th>\n",
       "            <th>customer_count</th>\n",
       "        </tr>\n",
       "    </thead>\n",
       "    <tbody>\n",
       "        <tr>\n",
       "            <td>30-45</td>\n",
       "            <td>5978</td>\n",
       "        </tr>\n",
       "        <tr>\n",
       "            <td>45-60</td>\n",
       "            <td>2853</td>\n",
       "        </tr>\n",
       "        <tr>\n",
       "            <td>Under 30</td>\n",
       "            <td>1551</td>\n",
       "        </tr>\n",
       "        <tr>\n",
       "            <td>Over 60</td>\n",
       "            <td>780</td>\n",
       "        </tr>\n",
       "    </tbody>\n",
       "</table>"
      ],
      "text/plain": [
       "[('30-45', 5978), ('45-60', 2853), ('Under 30', 1551), ('Over 60', 780)]"
      ]
     },
     "execution_count": 137,
     "metadata": {},
     "output_type": "execute_result"
    }
   ],
   "source": [
    "%%sql\n",
    "\n",
    "WITH \n",
    "age_group AS \n",
    "(\n",
    "SELECT age,\n",
    "        CASE\n",
    "            WHEN age<30 AND age>0 THEN \"Under 30\"\n",
    "            WHEN age<46 AND age>29 THEN  \"30-45\"\n",
    "            WHEN age<60 AND age>45 THEN \"45-60\"\n",
    "            WHEN age>59 THEN \"Over 60\"\n",
    "        END AS age_bracket\n",
    "FROM bank\n",
    "),\n",
    "\n",
    "count_by_age AS\n",
    "(\n",
    "SELECT age_bracket, COUNT(*) AS customer_count\n",
    "  FROM age_group\n",
    "GROUP BY age_bracket\n",
    ")\n",
    "\n",
    "SELECT *\n",
    "  FROM count_by_age\n",
    "ORDER BY customer_count DESC;"
   ]
  },
  {
   "cell_type": "markdown",
   "id": "1b61cf21",
   "metadata": {},
   "source": [
    "The most common age bracket is 30-45, followed by 45-60. Let's look at the most common professions for customers in these 2 age brackets:"
   ]
  },
  {
   "cell_type": "code",
   "execution_count": 214,
   "id": "b756dc3a",
   "metadata": {},
   "outputs": [
    {
     "name": "stdout",
     "output_type": "stream",
     "text": [
      " * sqlite:///bank.db\n",
      "Done.\n"
     ]
    },
    {
     "data": {
      "text/html": [
       "<table>\n",
       "    <thead>\n",
       "        <tr>\n",
       "            <th>job</th>\n",
       "            <th>customer_count</th>\n",
       "        </tr>\n",
       "    </thead>\n",
       "    <tbody>\n",
       "        <tr>\n",
       "            <td>management</td>\n",
       "            <td>2566</td>\n",
       "        </tr>\n",
       "        <tr>\n",
       "            <td>blue-collar</td>\n",
       "            <td>1944</td>\n",
       "        </tr>\n",
       "        <tr>\n",
       "            <td>technician</td>\n",
       "            <td>1823</td>\n",
       "        </tr>\n",
       "        <tr>\n",
       "            <td>admin.</td>\n",
       "            <td>1334</td>\n",
       "        </tr>\n",
       "    </tbody>\n",
       "</table>"
      ],
      "text/plain": [
       "[('management', 2566),\n",
       " ('blue-collar', 1944),\n",
       " ('technician', 1823),\n",
       " ('admin.', 1334)]"
      ]
     },
     "execution_count": 214,
     "metadata": {},
     "output_type": "execute_result"
    }
   ],
   "source": [
    "%%sql\n",
    "SELECT job, COUNT(*) AS customer_count\n",
    "  FROM bank\n",
    "WHERE 29<age<61\n",
    "GROUP BY job\n",
    "ORDER BY customer_count DESC\n",
    "LIMIT 4;"
   ]
  },
  {
   "cell_type": "markdown",
   "id": "56f14a17",
   "metadata": {},
   "source": [
    "Let's see the success frequency by job, and compare it to the most common jobs for the 30-45 and 45-60 age brackets:"
   ]
  },
  {
   "cell_type": "code",
   "execution_count": 213,
   "id": "6d9ea811",
   "metadata": {},
   "outputs": [
    {
     "name": "stdout",
     "output_type": "stream",
     "text": [
      " * sqlite:///bank.db\n",
      "Done.\n"
     ]
    },
    {
     "data": {
      "text/html": [
       "<table>\n",
       "    <thead>\n",
       "        <tr>\n",
       "            <th>job</th>\n",
       "            <th>customer_count</th>\n",
       "        </tr>\n",
       "    </thead>\n",
       "    <tbody>\n",
       "        <tr>\n",
       "            <td>management</td>\n",
       "            <td>292</td>\n",
       "        </tr>\n",
       "        <tr>\n",
       "            <td>technician</td>\n",
       "            <td>157</td>\n",
       "        </tr>\n",
       "        <tr>\n",
       "            <td>retired</td>\n",
       "            <td>135</td>\n",
       "        </tr>\n",
       "        <tr>\n",
       "            <td>admin.</td>\n",
       "            <td>134</td>\n",
       "        </tr>\n",
       "        <tr>\n",
       "            <td>blue-collar</td>\n",
       "            <td>90</td>\n",
       "        </tr>\n",
       "    </tbody>\n",
       "</table>"
      ],
      "text/plain": [
       "[('management', 292),\n",
       " ('technician', 157),\n",
       " ('retired', 135),\n",
       " ('admin.', 134),\n",
       " ('blue-collar', 90)]"
      ]
     },
     "execution_count": 213,
     "metadata": {},
     "output_type": "execute_result"
    }
   ],
   "source": [
    "%%sql\n",
    "SELECT job, COUNT(*) AS customer_count\n",
    "  FROM bank\n",
    "WHERE poutcome = \"success\"\n",
    "GROUP BY poutcome, job\n",
    "ORDER BY customer_count DESC\n",
    "LIMIT 5;"
   ]
  },
  {
   "cell_type": "markdown",
   "id": "d8ec5dde",
   "metadata": {},
   "source": [
    "We can see that management, blue-collar, admin, and technician all appear among the top 5 professions where the previous campaign successfully converted a customer. This is in line the most common professions for the 30-45 and 45-60 age brackets. For these age brackets, we might want to have messaging to specifically target people in the aforementioned professions. \n",
    "\n",
    "Additionally, we see retired as the 3rd most frequent occupation for successes, suggesting we might also want messaging tailored to a 60+ retired demographic. "
   ]
  },
  {
   "cell_type": "markdown",
   "id": "6b9babf7",
   "metadata": {},
   "source": [
    "<h3>Percentage of Customers with Current Loans or Term Deposits Past Campaigns Successfully Converted<h3>"
   ]
  },
  {
   "cell_type": "markdown",
   "id": "857fe2aa",
   "metadata": {},
   "source": [
    "Now let's look at the % of people with loans for whom campaign succeeded. We'll exclude outcomes that are not defined as either failures or successes to focus on figuring out which customer segment to target in the next marketing campaign. \n"
   ]
  },
  {
   "cell_type": "code",
   "execution_count": 215,
   "id": "b6f76852",
   "metadata": {},
   "outputs": [
    {
     "name": "stdout",
     "output_type": "stream",
     "text": [
      " * sqlite:///bank.db\n",
      "Done.\n"
     ]
    },
    {
     "data": {
      "text/html": [
       "<table>\n",
       "    <thead>\n",
       "        <tr>\n",
       "            <th>loan</th>\n",
       "            <th>poutcome</th>\n",
       "            <th>percent</th>\n",
       "        </tr>\n",
       "    </thead>\n",
       "    <tbody>\n",
       "        <tr>\n",
       "            <td>no</td>\n",
       "            <td>failure</td>\n",
       "            <td>46.107003044802084</td>\n",
       "        </tr>\n",
       "        <tr>\n",
       "            <td>no</td>\n",
       "            <td>success</td>\n",
       "            <td>44.36711613745106</td>\n",
       "        </tr>\n",
       "        <tr>\n",
       "            <td>yes</td>\n",
       "            <td>failure</td>\n",
       "            <td>7.3075250108742935</td>\n",
       "        </tr>\n",
       "        <tr>\n",
       "            <td>yes</td>\n",
       "            <td>success</td>\n",
       "            <td>2.218355806872553</td>\n",
       "        </tr>\n",
       "    </tbody>\n",
       "</table>"
      ],
      "text/plain": [
       "[('no', 'failure', 46.107003044802084),\n",
       " ('no', 'success', 44.36711613745106),\n",
       " ('yes', 'failure', 7.3075250108742935),\n",
       " ('yes', 'success', 2.218355806872553)]"
      ]
     },
     "execution_count": 215,
     "metadata": {},
     "output_type": "execute_result"
    }
   ],
   "source": [
    "%%sql\n",
    "SELECT loan, poutcome, (100*CAST(COUNT(*) AS FLOAT)/(SELECT COUNT(*)\n",
    "                       FROM bank\n",
    "                       WHERE (poutcome = \"failure\") OR (poutcome = \"success\"))) AS percent\n",
    "  FROM bank\n",
    "WHERE (poutcome = \"failure\") OR (poutcome = \"success\")\n",
    "GROUP BY loan, poutcome;"
   ]
  },
  {
   "cell_type": "markdown",
   "id": "241109cf",
   "metadata": {},
   "source": [
    "Above we can see that for customers who did not have a loan, the campaign both failed and succeeded for a similar number percentage of the total customers. For customers who did have a loan, similarily, the campaign also both failed and succeeded for a similar number percentage of the total customers. Loans at first glance therefore don't appear to have much of an impact on the the campaign being successful. \n",
    "\n",
    "Let's see if term deposits impacted customers for whom the campaign succeeded."
   ]
  },
  {
   "cell_type": "code",
   "execution_count": 195,
   "id": "399cebe4",
   "metadata": {},
   "outputs": [
    {
     "name": "stdout",
     "output_type": "stream",
     "text": [
      " * sqlite:///bank.db\n",
      "Done.\n"
     ]
    },
    {
     "data": {
      "text/html": [
       "<table>\n",
       "    <thead>\n",
       "        <tr>\n",
       "            <th>deposit</th>\n",
       "            <th>poutcome</th>\n",
       "            <th>percent</th>\n",
       "        </tr>\n",
       "    </thead>\n",
       "    <tbody>\n",
       "        <tr>\n",
       "            <td>no</td>\n",
       "            <td>failure</td>\n",
       "            <td>26.53327533710309</td>\n",
       "        </tr>\n",
       "        <tr>\n",
       "            <td>no</td>\n",
       "            <td>success</td>\n",
       "            <td>4.045237059591127</td>\n",
       "        </tr>\n",
       "        <tr>\n",
       "            <td>yes</td>\n",
       "            <td>failure</td>\n",
       "            <td>26.881252718573293</td>\n",
       "        </tr>\n",
       "        <tr>\n",
       "            <td>yes</td>\n",
       "            <td>success</td>\n",
       "            <td>42.54023488473249</td>\n",
       "        </tr>\n",
       "    </tbody>\n",
       "</table>"
      ],
      "text/plain": [
       "[('no', 'failure', 26.53327533710309),\n",
       " ('no', 'success', 4.045237059591127),\n",
       " ('yes', 'failure', 26.881252718573293),\n",
       " ('yes', 'success', 42.54023488473249)]"
      ]
     },
     "execution_count": 195,
     "metadata": {},
     "output_type": "execute_result"
    }
   ],
   "source": [
    "%%sql\n",
    "SELECT deposit, poutcome, (100*CAST(COUNT(*) AS FLOAT)/(SELECT COUNT(*)\n",
    "                       FROM bank\n",
    "                       WHERE (poutcome = \"failure\") OR (poutcome = \"success\"))) AS percent\n",
    "  FROM bank\n",
    "WHERE (poutcome = \"failure\") OR (poutcome = \"success\")\n",
    "GROUP BY deposit, poutcome;"
   ]
  },
  {
   "cell_type": "markdown",
   "id": "a60518a3",
   "metadata": {},
   "source": [
    "Above we can the campaign is more likely to succeed with customers who do have a term deposit, versus people who do not."
   ]
  },
  {
   "cell_type": "markdown",
   "id": "176b3ba5",
   "metadata": {},
   "source": [
    "<h3>Which Bank Balance Range to Target<h3>"
   ]
  },
  {
   "cell_type": "markdown",
   "id": "1a01abc8",
   "metadata": {},
   "source": [
    "Let's investigate if balance has an impact. "
   ]
  },
  {
   "cell_type": "code",
   "execution_count": 173,
   "id": "715f7e20",
   "metadata": {},
   "outputs": [
    {
     "name": "stdout",
     "output_type": "stream",
     "text": [
      " * sqlite:///bank.db\n",
      "Done.\n"
     ]
    },
    {
     "data": {
      "text/html": [
       "<table>\n",
       "    <thead>\n",
       "        <tr>\n",
       "            <th>MAX(balance)</th>\n",
       "            <th>MIN(balance)</th>\n",
       "        </tr>\n",
       "    </thead>\n",
       "    <tbody>\n",
       "        <tr>\n",
       "            <td>81204</td>\n",
       "            <td>-6847</td>\n",
       "        </tr>\n",
       "    </tbody>\n",
       "</table>"
      ],
      "text/plain": [
       "[(81204, -6847)]"
      ]
     },
     "execution_count": 173,
     "metadata": {},
     "output_type": "execute_result"
    }
   ],
   "source": [
    "%%sql\n",
    "SELECT MAX(balance), MIN(balance)\n",
    "  FROM bank;"
   ]
  },
  {
   "cell_type": "code",
   "execution_count": 209,
   "id": "f82aefb6",
   "metadata": {},
   "outputs": [
    {
     "name": "stdout",
     "output_type": "stream",
     "text": [
      " * sqlite:///bank.db\n",
      "Done.\n"
     ]
    },
    {
     "data": {
      "text/html": [
       "<table>\n",
       "    <thead>\n",
       "        <tr>\n",
       "            <th>balance_bracket</th>\n",
       "            <th>poutcome</th>\n",
       "            <th>COUNT(*)</th>\n",
       "        </tr>\n",
       "    </thead>\n",
       "    <tbody>\n",
       "        <tr>\n",
       "            <td>10K-5K</td>\n",
       "            <td>failure</td>\n",
       "            <td>73</td>\n",
       "        </tr>\n",
       "        <tr>\n",
       "            <td>10K-5K</td>\n",
       "            <td>success</td>\n",
       "            <td>62</td>\n",
       "        </tr>\n",
       "        <tr>\n",
       "            <td>25K-10K</td>\n",
       "            <td>failure</td>\n",
       "            <td>20</td>\n",
       "        </tr>\n",
       "        <tr>\n",
       "            <td>25K-10K</td>\n",
       "            <td>success</td>\n",
       "            <td>30</td>\n",
       "        </tr>\n",
       "        <tr>\n",
       "            <td>50K-25K</td>\n",
       "            <td>failure</td>\n",
       "            <td>1</td>\n",
       "        </tr>\n",
       "        <tr>\n",
       "            <td>50K-25K</td>\n",
       "            <td>success</td>\n",
       "            <td>3</td>\n",
       "        </tr>\n",
       "        <tr>\n",
       "            <td>75K-50K</td>\n",
       "            <td>success</td>\n",
       "            <td>1</td>\n",
       "        </tr>\n",
       "        <tr>\n",
       "            <td>82K-75K</td>\n",
       "            <td>success</td>\n",
       "            <td>1</td>\n",
       "        </tr>\n",
       "        <tr>\n",
       "            <td>Under 5K</td>\n",
       "            <td>failure</td>\n",
       "            <td>1000</td>\n",
       "        </tr>\n",
       "        <tr>\n",
       "            <td>Under 5K</td>\n",
       "            <td>success</td>\n",
       "            <td>922</td>\n",
       "        </tr>\n",
       "        <tr>\n",
       "            <td>negative balance</td>\n",
       "            <td>failure</td>\n",
       "            <td>59</td>\n",
       "        </tr>\n",
       "        <tr>\n",
       "            <td>negative balance</td>\n",
       "            <td>success</td>\n",
       "            <td>9</td>\n",
       "        </tr>\n",
       "        <tr>\n",
       "            <td>no balance</td>\n",
       "            <td>failure</td>\n",
       "            <td>75</td>\n",
       "        </tr>\n",
       "        <tr>\n",
       "            <td>no balance</td>\n",
       "            <td>success</td>\n",
       "            <td>43</td>\n",
       "        </tr>\n",
       "    </tbody>\n",
       "</table>"
      ],
      "text/plain": [
       "[('10K-5K', 'failure', 73),\n",
       " ('10K-5K', 'success', 62),\n",
       " ('25K-10K', 'failure', 20),\n",
       " ('25K-10K', 'success', 30),\n",
       " ('50K-25K', 'failure', 1),\n",
       " ('50K-25K', 'success', 3),\n",
       " ('75K-50K', 'success', 1),\n",
       " ('82K-75K', 'success', 1),\n",
       " ('Under 5K', 'failure', 1000),\n",
       " ('Under 5K', 'success', 922),\n",
       " ('negative balance', 'failure', 59),\n",
       " ('negative balance', 'success', 9),\n",
       " ('no balance', 'failure', 75),\n",
       " ('no balance', 'success', 43)]"
      ]
     },
     "execution_count": 209,
     "metadata": {},
     "output_type": "execute_result"
    }
   ],
   "source": [
    "%%sql\n",
    "\n",
    "WITH bal_cat AS (\n",
    "SELECT poutcome, balance,\n",
    "        CASE\n",
    "            WHEN 75000<balance AND balance<82000 THEN  \"82K-75K\"\n",
    "            WHEN 50000<balance AND balance<75000 THEN  \"75K-50K\"\n",
    "            WHEN 25000<balance AND balance<50000 THEN  \"50K-25K\"\n",
    "            WHEN 10000<balance AND balance<25000 THEN  \"25K-10K\"\n",
    "            WHEN 5000<balance AND balance<10000 THEN  \"10K-5K\"\n",
    "            WHEN 0<balance AND balance<5000 THEN  \"Under 5K\"\n",
    "            WHEN balance=0 THEN \"no balance\"\n",
    "            WHEN balance<0 THEN \"negative balance\"\n",
    "        END AS balance_bracket\n",
    "FROM bank\n",
    "WHERE poutcome = \"success\" OR poutcome = \"failure\"\n",
    ")\n",
    "\n",
    "SELECT balance_bracket, poutcome, COUNT(*)\n",
    "  FROM bal_cat\n",
    "GROUP BY balance_bracket, poutcome;"
   ]
  },
  {
   "cell_type": "markdown",
   "id": "b0c24cb6",
   "metadata": {},
   "source": [
    "Most success is with the under \\\\$5k balance group, but this group also has the most failures. Let's explore whether loans and term deposits in this group can give us insights into why this group is so divided in terms of success. "
   ]
  },
  {
   "cell_type": "code",
   "execution_count": 211,
   "id": "442ec526",
   "metadata": {},
   "outputs": [
    {
     "name": "stdout",
     "output_type": "stream",
     "text": [
      " * sqlite:///bank.db\n",
      "Done.\n"
     ]
    },
    {
     "data": {
      "text/html": [
       "<table>\n",
       "    <thead>\n",
       "        <tr>\n",
       "            <th>poutcome</th>\n",
       "            <th>loan</th>\n",
       "            <th>COUNT(*)</th>\n",
       "        </tr>\n",
       "    </thead>\n",
       "    <tbody>\n",
       "        <tr>\n",
       "            <td>failure</td>\n",
       "            <td>no</td>\n",
       "            <td>866</td>\n",
       "        </tr>\n",
       "        <tr>\n",
       "            <td>failure</td>\n",
       "            <td>yes</td>\n",
       "            <td>134</td>\n",
       "        </tr>\n",
       "        <tr>\n",
       "            <td>success</td>\n",
       "            <td>no</td>\n",
       "            <td>877</td>\n",
       "        </tr>\n",
       "        <tr>\n",
       "            <td>success</td>\n",
       "            <td>yes</td>\n",
       "            <td>45</td>\n",
       "        </tr>\n",
       "    </tbody>\n",
       "</table>"
      ],
      "text/plain": [
       "[('failure', 'no', 866),\n",
       " ('failure', 'yes', 134),\n",
       " ('success', 'no', 877),\n",
       " ('success', 'yes', 45)]"
      ]
     },
     "execution_count": 211,
     "metadata": {},
     "output_type": "execute_result"
    }
   ],
   "source": [
    "%%sql\n",
    "\n",
    "SELECT poutcome, loan, COUNT(*)\n",
    "  FROM bank \n",
    "WHERE (0<balance AND balance<5000) AND (poutcome = \"success\" OR poutcome = \"failure\")\n",
    "GROUP BY poutcome, loan;"
   ]
  },
  {
   "cell_type": "markdown",
   "id": "2a388b20",
   "metadata": {},
   "source": [
    "Both most of the successes and failures in the under \\\\$5k balance group did not have loans. "
   ]
  },
  {
   "cell_type": "code",
   "execution_count": 212,
   "id": "0f1dee83",
   "metadata": {},
   "outputs": [
    {
     "name": "stdout",
     "output_type": "stream",
     "text": [
      " * sqlite:///bank.db\n",
      "Done.\n"
     ]
    },
    {
     "data": {
      "text/html": [
       "<table>\n",
       "    <thead>\n",
       "        <tr>\n",
       "            <th>poutcome</th>\n",
       "            <th>deposit</th>\n",
       "            <th>customer_count</th>\n",
       "        </tr>\n",
       "    </thead>\n",
       "    <tbody>\n",
       "        <tr>\n",
       "            <td>failure</td>\n",
       "            <td>no</td>\n",
       "            <td>498</td>\n",
       "        </tr>\n",
       "        <tr>\n",
       "            <td>failure</td>\n",
       "            <td>yes</td>\n",
       "            <td>502</td>\n",
       "        </tr>\n",
       "        <tr>\n",
       "            <td>success</td>\n",
       "            <td>no</td>\n",
       "            <td>81</td>\n",
       "        </tr>\n",
       "        <tr>\n",
       "            <td>success</td>\n",
       "            <td>yes</td>\n",
       "            <td>841</td>\n",
       "        </tr>\n",
       "    </tbody>\n",
       "</table>"
      ],
      "text/plain": [
       "[('failure', 'no', 498),\n",
       " ('failure', 'yes', 502),\n",
       " ('success', 'no', 81),\n",
       " ('success', 'yes', 841)]"
      ]
     },
     "execution_count": 212,
     "metadata": {},
     "output_type": "execute_result"
    }
   ],
   "source": [
    "%%sql\n",
    "\n",
    "SELECT poutcome, deposit, COUNT(*) AS customer_count\n",
    "  FROM bank \n",
    "WHERE (0<balance AND balance<5000) AND (poutcome = \"success\" OR poutcome = \"failure\")\n",
    "GROUP BY poutcome, deposit;"
   ]
  },
  {
   "cell_type": "markdown",
   "id": "6e6a3105",
   "metadata": {},
   "source": [
    "In the under \\\\$5k income group, customers whom the campaign persuaded with were more likely to have a term deposit than not. "
   ]
  },
  {
   "cell_type": "markdown",
   "id": "6cc62f1e",
   "metadata": {},
   "source": [
    "<h3>Conclusion<h3>"
   ]
  },
  {
   "cell_type": "markdown",
   "id": "83e6c24d",
   "metadata": {},
   "source": [
    "The above analysis seems to suggest that for the next marketing campaign the budget and efforts should be weighted more heavily towards people with a positive bank balance under \\\\$25k with existing term deposits. \n",
    "\n",
    "The campaign should also have different messaging strategies for each of following buckets of people: \n",
    "•30-45 and 45-60 year olds in management, technician, and admin roles\n",
    "•60 and above in retirement."
   ]
  },
  {
   "cell_type": "code",
   "execution_count": null,
   "id": "43287e39",
   "metadata": {},
   "outputs": [],
   "source": []
  }
 ],
 "metadata": {
  "kernelspec": {
   "display_name": "Python 3 (ipykernel)",
   "language": "python",
   "name": "python3"
  },
  "language_info": {
   "codemirror_mode": {
    "name": "ipython",
    "version": 3
   },
   "file_extension": ".py",
   "mimetype": "text/x-python",
   "name": "python",
   "nbconvert_exporter": "python",
   "pygments_lexer": "ipython3",
   "version": "3.10.9"
  }
 },
 "nbformat": 4,
 "nbformat_minor": 5
}
